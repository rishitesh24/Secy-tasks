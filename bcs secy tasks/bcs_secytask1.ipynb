{
  "cells": [
    {
      "cell_type": "code",
      "execution_count": null,
      "metadata": {
        "id": "kl0ScBeIhMqQ"
      },
      "outputs": [],
      "source": [
        "import numpy as np"
      ]
    },
    {
      "cell_type": "code",
      "execution_count": null,
      "metadata": {
        "colab": {
          "base_uri": "https://localhost:8080/"
        },
        "id": "2Uk7m5FihTQM",
        "outputId": "50320b22-8699-436b-9ce0-c243432661d0"
      },
      "outputs": [
        {
          "name": "stdout",
          "output_type": "stream",
          "text": [
            "Enter mass of first planetory body in kgs: 60\n",
            "Enter mass of second planetory body in kgs: 60\n",
            "Enter initial position of body 1 (x1 y1): 0 0\n",
            "Enter initial position of body 2 (x2 y2): 5 5\n",
            "Enter initial velocity of body 1 (Vx1 Vy1): 79 79\n",
            "Enter initial velocity of body 2 (Vx2 Vy2): 67 67\n",
            "Enter time instant to predict positions in seconds: 89\n"
          ]
        }
      ],
      "source": [
        "#user input cell\n",
        "m1 = float(input(\"Enter mass of first planetory body in kgs: \"))\n",
        "m2 = float(input(\"Enter mass of second planetory body in kgs: \"))\n",
        "\n",
        "ipos1 = list(map(float, input(\"Enter initial position of body 1 (x1 y1): \").split()))\n",
        "ipos2 = list(map(float, input(\"Enter initial position of body 2 (x2 y2): \").split()))\n",
        "\n",
        "ivel1 = list(map(float, input(\"Enter initial velocity of body 1 (Vx1 Vy1): \").split()))\n",
        "ivel2 = list(map(float, input(\"Enter initial velocity of body 2 (Vx2 Vy2): \").split()))\n",
        "\n",
        "t = float(input(\"Enter time instant to predict positions in seconds: \"))\n"
      ]
    },
    {
      "cell_type": "code",
      "execution_count": null,
      "metadata": {
        "id": "Nojbvb1amgZn"
      },
      "outputs": [],
      "source": [
        "#data generation\n",
        "from scipy.integrate import solve_ivp\n",
        "ini_pos1=np.array(ipos1)\n",
        "ini_pos2=np.array(ipos2)\n",
        "ini_vel1=np.array(ivel1)\n",
        "ini_vel2=np.array(ivel2)\n",
        "\n",
        "y0=np.concatenate([ini_pos1,ini_pos2,ini_vel1,ini_vel2])\n",
        "t_max=86400\n",
        "def derivatives(t,y):\n",
        "    x1 = y[0:2]\n",
        "    x2 = y[2:4]\n",
        "    v1 = y[4:6]\n",
        "    v2 = y[6:8]\n",
        "    r = np.linalg.norm(x2 - x1)\n",
        "    G = 6.67e-11\n",
        "    a1 = G * m2 * (x2 - x1) / r**3\n",
        "    a2 = G * m1 * (x1 - x2) / r**3\n",
        "    return [v1[0], v1[1], v2[0], v2[1], a1[0], a1[1], a2[0], a2[1]]\n",
        "\n",
        "sol=solve_ivp(derivatives,[0,t_max],y0,t_eval=np.linspace(0,t_max,2000))\n",
        "\n",
        "fin_pos1=sol.y[0:2].T\n",
        "fin_pos2=sol.y[2:4].T\n",
        "times=sol.t\n",
        "\n",
        "Y=np.hstack([fin_pos1,fin_pos2])\n",
        "X=times.reshape(-1,1)\n",
        "\n",
        "from sklearn.model_selection import train_test_split\n",
        "X_train, X_test, Y_train, Y_test = train_test_split( X, Y, test_size=0.2, random_state=0)\n",
        "\n",
        "\n"
      ]
    },
    {
      "cell_type": "code",
      "execution_count": null,
      "metadata": {
        "colab": {
          "base_uri": "https://localhost:8080/"
        },
        "id": "QCLq6ASVmXo_",
        "outputId": "4f239d88-8844-4bd6-dd5e-2c539c2bc90b"
      },
      "outputs": [
        {
          "name": "stdout",
          "output_type": "stream",
          "text": [
            "Epoch 1/40\n",
            "\u001b[1m45/45\u001b[0m \u001b[32m━━━━━━━━━━━━━━━━━━━━\u001b[0m\u001b[37m\u001b[0m \u001b[1m3s\u001b[0m 6ms/step - loss: 3131176.7500 - val_loss: 2960406.5000\n",
            "Epoch 2/40\n",
            "\u001b[1m45/45\u001b[0m \u001b[32m━━━━━━━━━━━━━━━━━━━━\u001b[0m\u001b[37m\u001b[0m \u001b[1m0s\u001b[0m 3ms/step - loss: 3128757.5000 - val_loss: 2874055.7500\n",
            "Epoch 3/40\n",
            "\u001b[1m45/45\u001b[0m \u001b[32m━━━━━━━━━━━━━━━━━━━━\u001b[0m\u001b[37m\u001b[0m \u001b[1m0s\u001b[0m 4ms/step - loss: 2999862.7500 - val_loss: 2646698.5000\n",
            "Epoch 4/40\n",
            "\u001b[1m45/45\u001b[0m \u001b[32m━━━━━━━━━━━━━━━━━━━━\u001b[0m\u001b[37m\u001b[0m \u001b[1m0s\u001b[0m 4ms/step - loss: 2728688.2500 - val_loss: 2166328.5000\n",
            "Epoch 5/40\n",
            "\u001b[1m45/45\u001b[0m \u001b[32m━━━━━━━━━━━━━━━━━━━━\u001b[0m\u001b[37m\u001b[0m \u001b[1m0s\u001b[0m 3ms/step - loss: 2144965.7500 - val_loss: 1321676.8750\n",
            "Epoch 6/40\n",
            "\u001b[1m45/45\u001b[0m \u001b[32m━━━━━━━━━━━━━━━━━━━━\u001b[0m\u001b[37m\u001b[0m \u001b[1m0s\u001b[0m 3ms/step - loss: 1076566.1250 - val_loss: 150739.5000\n",
            "Epoch 7/40\n",
            "\u001b[1m45/45\u001b[0m \u001b[32m━━━━━━━━━━━━━━━━━━━━\u001b[0m\u001b[37m\u001b[0m \u001b[1m0s\u001b[0m 3ms/step - loss: 96741.7656 - val_loss: 12516.7617\n",
            "Epoch 8/40\n",
            "\u001b[1m45/45\u001b[0m \u001b[32m━━━━━━━━━━━━━━━━━━━━\u001b[0m\u001b[37m\u001b[0m \u001b[1m0s\u001b[0m 3ms/step - loss: 6660.0498 - val_loss: 1293.4323\n",
            "Epoch 9/40\n",
            "\u001b[1m45/45\u001b[0m \u001b[32m━━━━━━━━━━━━━━━━━━━━\u001b[0m\u001b[37m\u001b[0m \u001b[1m0s\u001b[0m 3ms/step - loss: 2741.7493 - val_loss: 3009.4648\n",
            "Epoch 10/40\n",
            "\u001b[1m45/45\u001b[0m \u001b[32m━━━━━━━━━━━━━━━━━━━━\u001b[0m\u001b[37m\u001b[0m \u001b[1m0s\u001b[0m 3ms/step - loss: 2661.5298 - val_loss: 1631.2991\n",
            "Epoch 11/40\n",
            "\u001b[1m45/45\u001b[0m \u001b[32m━━━━━━━━━━━━━━━━━━━━\u001b[0m\u001b[37m\u001b[0m \u001b[1m0s\u001b[0m 3ms/step - loss: 1552.2694 - val_loss: 2033.9778\n",
            "Epoch 12/40\n",
            "\u001b[1m45/45\u001b[0m \u001b[32m━━━━━━━━━━━━━━━━━━━━\u001b[0m\u001b[37m\u001b[0m \u001b[1m0s\u001b[0m 3ms/step - loss: 1595.8647 - val_loss: 1114.1633\n",
            "Epoch 13/40\n",
            "\u001b[1m45/45\u001b[0m \u001b[32m━━━━━━━━━━━━━━━━━━━━\u001b[0m\u001b[37m\u001b[0m \u001b[1m0s\u001b[0m 4ms/step - loss: 1869.3451 - val_loss: 1310.4542\n",
            "Epoch 14/40\n",
            "\u001b[1m45/45\u001b[0m \u001b[32m━━━━━━━━━━━━━━━━━━━━\u001b[0m\u001b[37m\u001b[0m \u001b[1m0s\u001b[0m 3ms/step - loss: 1490.6400 - val_loss: 2192.3428\n",
            "Epoch 15/40\n",
            "\u001b[1m45/45\u001b[0m \u001b[32m━━━━━━━━━━━━━━━━━━━━\u001b[0m\u001b[37m\u001b[0m \u001b[1m0s\u001b[0m 3ms/step - loss: 2030.2836 - val_loss: 1310.8605\n",
            "Epoch 16/40\n",
            "\u001b[1m45/45\u001b[0m \u001b[32m━━━━━━━━━━━━━━━━━━━━\u001b[0m\u001b[37m\u001b[0m \u001b[1m0s\u001b[0m 4ms/step - loss: 1710.9786 - val_loss: 1520.9351\n",
            "Epoch 17/40\n",
            "\u001b[1m45/45\u001b[0m \u001b[32m━━━━━━━━━━━━━━━━━━━━\u001b[0m\u001b[37m\u001b[0m \u001b[1m0s\u001b[0m 4ms/step - loss: 1257.5511 - val_loss: 506.4225\n",
            "Epoch 18/40\n",
            "\u001b[1m45/45\u001b[0m \u001b[32m━━━━━━━━━━━━━━━━━━━━\u001b[0m\u001b[37m\u001b[0m \u001b[1m0s\u001b[0m 3ms/step - loss: 2509.5239 - val_loss: 2827.9712\n",
            "Epoch 19/40\n",
            "\u001b[1m45/45\u001b[0m \u001b[32m━━━━━━━━━━━━━━━━━━━━\u001b[0m\u001b[37m\u001b[0m \u001b[1m0s\u001b[0m 3ms/step - loss: 2250.7029 - val_loss: 987.4233\n",
            "Epoch 20/40\n",
            "\u001b[1m45/45\u001b[0m \u001b[32m━━━━━━━━━━━━━━━━━━━━\u001b[0m\u001b[37m\u001b[0m \u001b[1m0s\u001b[0m 3ms/step - loss: 1540.4182 - val_loss: 1065.7850\n",
            "Epoch 21/40\n",
            "\u001b[1m45/45\u001b[0m \u001b[32m━━━━━━━━━━━━━━━━━━━━\u001b[0m\u001b[37m\u001b[0m \u001b[1m0s\u001b[0m 3ms/step - loss: 1329.7650 - val_loss: 1920.2242\n",
            "Epoch 22/40\n",
            "\u001b[1m45/45\u001b[0m \u001b[32m━━━━━━━━━━━━━━━━━━━━\u001b[0m\u001b[37m\u001b[0m \u001b[1m0s\u001b[0m 4ms/step - loss: 1676.8529 - val_loss: 2024.2133\n",
            "Epoch 23/40\n",
            "\u001b[1m45/45\u001b[0m \u001b[32m━━━━━━━━━━━━━━━━━━━━\u001b[0m\u001b[37m\u001b[0m \u001b[1m0s\u001b[0m 3ms/step - loss: 1973.1881 - val_loss: 1008.8763\n",
            "Epoch 24/40\n",
            "\u001b[1m45/45\u001b[0m \u001b[32m━━━━━━━━━━━━━━━━━━━━\u001b[0m\u001b[37m\u001b[0m \u001b[1m0s\u001b[0m 3ms/step - loss: 1716.9562 - val_loss: 2176.7368\n",
            "Epoch 25/40\n",
            "\u001b[1m45/45\u001b[0m \u001b[32m━━━━━━━━━━━━━━━━━━━━\u001b[0m\u001b[37m\u001b[0m \u001b[1m0s\u001b[0m 3ms/step - loss: 1655.8787 - val_loss: 1786.5219\n",
            "Epoch 26/40\n",
            "\u001b[1m45/45\u001b[0m \u001b[32m━━━━━━━━━━━━━━━━━━━━\u001b[0m\u001b[37m\u001b[0m \u001b[1m0s\u001b[0m 3ms/step - loss: 1462.1293 - val_loss: 3921.6484\n",
            "Epoch 27/40\n",
            "\u001b[1m45/45\u001b[0m \u001b[32m━━━━━━━━━━━━━━━━━━━━\u001b[0m\u001b[37m\u001b[0m \u001b[1m0s\u001b[0m 4ms/step - loss: 2033.3960 - val_loss: 1218.8445\n",
            "Epoch 28/40\n",
            "\u001b[1m45/45\u001b[0m \u001b[32m━━━━━━━━━━━━━━━━━━━━\u001b[0m\u001b[37m\u001b[0m \u001b[1m0s\u001b[0m 3ms/step - loss: 2150.2144 - val_loss: 2491.1667\n",
            "Epoch 29/40\n",
            "\u001b[1m45/45\u001b[0m \u001b[32m━━━━━━━━━━━━━━━━━━━━\u001b[0m\u001b[37m\u001b[0m \u001b[1m0s\u001b[0m 3ms/step - loss: 2696.6829 - val_loss: 1557.2070\n",
            "Epoch 30/40\n",
            "\u001b[1m45/45\u001b[0m \u001b[32m━━━━━━━━━━━━━━━━━━━━\u001b[0m\u001b[37m\u001b[0m \u001b[1m0s\u001b[0m 4ms/step - loss: 2111.1794 - val_loss: 768.6284\n",
            "Epoch 31/40\n",
            "\u001b[1m45/45\u001b[0m \u001b[32m━━━━━━━━━━━━━━━━━━━━\u001b[0m\u001b[37m\u001b[0m \u001b[1m0s\u001b[0m 3ms/step - loss: 1419.5944 - val_loss: 1066.8497\n",
            "Epoch 32/40\n",
            "\u001b[1m45/45\u001b[0m \u001b[32m━━━━━━━━━━━━━━━━━━━━\u001b[0m\u001b[37m\u001b[0m \u001b[1m0s\u001b[0m 3ms/step - loss: 1643.4691 - val_loss: 1668.6078\n",
            "Epoch 33/40\n",
            "\u001b[1m45/45\u001b[0m \u001b[32m━━━━━━━━━━━━━━━━━━━━\u001b[0m\u001b[37m\u001b[0m \u001b[1m0s\u001b[0m 4ms/step - loss: 1546.0420 - val_loss: 1436.6147\n",
            "Epoch 34/40\n",
            "\u001b[1m45/45\u001b[0m \u001b[32m━━━━━━━━━━━━━━━━━━━━\u001b[0m\u001b[37m\u001b[0m \u001b[1m0s\u001b[0m 3ms/step - loss: 1603.6644 - val_loss: 1302.8474\n",
            "Epoch 35/40\n",
            "\u001b[1m45/45\u001b[0m \u001b[32m━━━━━━━━━━━━━━━━━━━━\u001b[0m\u001b[37m\u001b[0m \u001b[1m0s\u001b[0m 3ms/step - loss: 2057.4109 - val_loss: 2044.0209\n",
            "Epoch 36/40\n",
            "\u001b[1m45/45\u001b[0m \u001b[32m━━━━━━━━━━━━━━━━━━━━\u001b[0m\u001b[37m\u001b[0m \u001b[1m0s\u001b[0m 3ms/step - loss: 2210.0020 - val_loss: 2550.4746\n",
            "Epoch 37/40\n",
            "\u001b[1m45/45\u001b[0m \u001b[32m━━━━━━━━━━━━━━━━━━━━\u001b[0m\u001b[37m\u001b[0m \u001b[1m0s\u001b[0m 6ms/step - loss: 2606.8042 - val_loss: 825.8141\n",
            "Epoch 38/40\n",
            "\u001b[1m45/45\u001b[0m \u001b[32m━━━━━━━━━━━━━━━━━━━━\u001b[0m\u001b[37m\u001b[0m \u001b[1m1s\u001b[0m 6ms/step - loss: 1105.2244 - val_loss: 346.4049\n",
            "Epoch 39/40\n",
            "\u001b[1m45/45\u001b[0m \u001b[32m━━━━━━━━━━━━━━━━━━━━\u001b[0m\u001b[37m\u001b[0m \u001b[1m0s\u001b[0m 5ms/step - loss: 1012.5865 - val_loss: 2111.3804\n",
            "Epoch 40/40\n",
            "\u001b[1m45/45\u001b[0m \u001b[32m━━━━━━━━━━━━━━━━━━━━\u001b[0m\u001b[37m\u001b[0m \u001b[1m0s\u001b[0m 5ms/step - loss: 2123.5125 - val_loss: 1610.0669\n"
          ]
        }
      ],
      "source": [
        "#model definition\n",
        "import tensorflow as tf\n",
        "from tensorflow.keras import layers, models\n",
        "\n",
        "model = models.Sequential([\n",
        "    layers.Input(shape=(1,)),             # Input\n",
        "    layers.Dense(64, activation='relu'), # Hidden layer 1\n",
        "    layers.Dense(64, activation='relu'), # Hidden layer 2\n",
        "    layers.Dense(4)                      # Output layer\n",
        "])\n",
        "\n",
        "model.compile(optimizer='adam', loss='mean_absolute_error')\n",
        "\n",
        "history = model.fit(X_train, Y_train, epochs=40, batch_size=32, validation_split=0.1)\n"
      ]
    },
    {
      "cell_type": "code",
      "execution_count": null,
      "metadata": {
        "colab": {
          "base_uri": "https://localhost:8080/"
        },
        "id": "qjSanwsso1gT",
        "outputId": "b3680705-871a-4752-c890-2044da290241"
      },
      "outputs": [
        {
          "name": "stdout",
          "output_type": "stream",
          "text": [
            "\u001b[1m13/13\u001b[0m \u001b[32m━━━━━━━━━━━━━━━━━━━━\u001b[0m\u001b[37m\u001b[0m \u001b[1m0s\u001b[0m 5ms/step \n",
            "Mean Absolute Error on Test Data: 1671.422352\n"
          ]
        }
      ],
      "source": [
        "from sklearn.metrics import mean_absolute_error\n",
        "\n",
        "\n",
        "Y_pred = model.predict(X_test)\n",
        "\n",
        "\n",
        "mae = mean_absolute_error(Y_test, Y_pred)\n",
        "\n",
        "print(f\"Mean Absolute Error on Test Data: {mae:.6f}\")\n"
      ]
    },
    {
      "cell_type": "code",
      "execution_count": null,
      "metadata": {
        "colab": {
          "base_uri": "https://localhost:8080/",
          "height": 507
        },
        "id": "J35BZIxJqdBK",
        "outputId": "c7b8dd95-ad01-4394-8ede-b1197acc9da5"
      },
      "outputs": [
        {
          "data": {
            "image/png": "[encoded data removed]",
            "text/plain": [
              "<Figure size 1000x500 with 2 Axes>"
            ]
          },
          "metadata": {},
          "output_type": "display_data"
        }
      ],
      "source": [
        "\n",
        "import matplotlib.pyplot as plt\n",
        "\n",
        "plt.figure(figsize=(10, 5))\n",
        "\n",
        "plt.subplot(1, 2, 1)\n",
        "plt.plot(X_test, Y_test[:, 0], 'b.', label='True x1')\n",
        "plt.plot(X_test, Y_pred[:, 0], 'w.', alpha=0.5, label='Pred x1')\n",
        "plt.title('x1 Position')\n",
        "plt.xlabel('Time')\n",
        "plt.ylabel('x1')\n",
        "plt.legend()\n",
        "\n",
        "\n",
        "plt.subplot(1, 2, 2)\n",
        "plt.plot(X_test, Y_test[:, 2], 'b.', label='True x2')\n",
        "plt.plot(X_test, Y_pred[:, 2], 'w.', alpha=0.5, label='Pred x2')\n",
        "plt.title('x2 Position')\n",
        "plt.xlabel('Time')\n",
        "plt.ylabel('x2')\n",
        "plt.legend()\n",
        "\n",
        "plt.tight_layout()\n",
        "plt.show()\n"
      ]
    },
    {
      "cell_type": "code",
      "execution_count": null,
      "metadata": {
        "colab": {
          "base_uri": "https://localhost:8080/"
        },
        "id": "qPxpSWUowKoi",
        "outputId": "88f70175-f2f2-4052-f860-5f268a556bea"
      },
      "outputs": [
        {
          "name": "stdout",
          "output_type": "stream",
          "text": [
            "\u001b[1m1/1\u001b[0m \u001b[32m━━━━━━━━━━━━━━━━━━━━\u001b[0m\u001b[37m\u001b[0m \u001b[1m0s\u001b[0m 44ms/step\n",
            "At time t = 89.0:\n",
            "Predicted position of body 1: [7067.647  7064.1875]\n",
            "Predicted position of body 2: [6000.8984 5995.52  ]\n"
          ]
        }
      ],
      "source": [
        "t_input = np.array([[t]])\n",
        "\n",
        "pos_pred = model.predict(t_input)\n",
        "\n",
        "pos1_pred = pos_pred[0, 0:2]\n",
        "pos2_pred = pos_pred[0, 2:4]\n",
        "\n",
        "print(f\"At time t = {t}:\")\n",
        "print(f\"Predicted position of body 1: {pos1_pred}\")\n",
        "print(f\"Predicted position of body 2: {pos2_pred}\")\n"
      ]
    }
  ],
  "metadata": {
    "colab": {
      "provenance": []
    },
    "kernelspec": {
      "display_name": "Python 3",
      "name": "python3"
    },
    "language_info": {
      "name": "python"
    }
  },
  "nbformat": 4,
  "nbformat_minor": 0
}
